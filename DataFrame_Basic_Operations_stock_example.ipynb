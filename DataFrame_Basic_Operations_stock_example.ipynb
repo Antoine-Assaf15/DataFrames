{
  "nbformat": 4,
  "nbformat_minor": 0,
  "metadata": {
    "anaconda-cloud": {},
    "kernelspec": {
      "display_name": "Python [conda root]",
      "language": "python",
      "name": "conda-root-py"
    },
    "language_info": {
      "codemirror_mode": {
        "name": "ipython",
        "version": 3
      },
      "file_extension": ".py",
      "mimetype": "text/x-python",
      "name": "python",
      "nbconvert_exporter": "python",
      "pygments_lexer": "ipython3",
      "version": "3.5.3"
    },
    "colab": {
      "name": "DataFrame_Basic_Operations.ipynb",
      "provenance": [],
      "toc_visible": true,
      "include_colab_link": true
    }
  },
  "cells": [
    {
      "cell_type": "markdown",
      "metadata": {
        "id": "view-in-github",
        "colab_type": "text"
      },
      "source": [
        "<a href=\"https://colab.research.google.com/github/BDML-Workshop/DataFrames/blob/main/DataFrame_Basic_Operations_stock_example.ipynb\" target=\"_parent\"><img src=\"https://colab.research.google.com/assets/colab-badge.svg\" alt=\"Open In Colab\"/></a>"
      ]
    },
    {
      "cell_type": "markdown",
      "metadata": {
        "id": "z05k-hFwXR5d"
      },
      "source": [
        "# Basic Operations\n",
        "\n",
        "This activity will cover some basic operations with Spark DataFrames.\n",
        "\n",
        "I will use Alpha vantage AI key 57BHZCU2AZ7PIIKX , you can get a free api key here : https://www.alphavantage.co/support/#api-key \n",
        "\n",
        "Through the Alpha Vantage Time Series endpoints, it is possible to obtain historical equities and currency rate data for individual symbols. For daily, weekly, and monthly frequencies, 20+ years of historical data is available. The past 3-5 days of intraday data is also available.\n",
        "\n",
        "The following endpoints are available:\n",
        "\n",
        "* av-intraday - Intraday Time Series\n",
        "* av-daily - Daily Time Series\n",
        "* av-daily-adjusted - Daily Time Series (Adjusted)\n",
        "* av-weekly - Weekly Time Series\n",
        "* av-weekly-adjusted - Weekly Time Series (Adjusted)\n",
        "* av-monthly - Monthly Time Series\n",
        "* av-monthly-adjusted - Monthly Time Series (Adjusted)\n",
        "* av-forex-daily - Daily Time Series\n",
        "\n",
        "AAPL is Apple Inc.\n",
        "\n"
      ]
    },
    {
      "cell_type": "code",
      "metadata": {
        "id": "zgrrDoOcaBoo"
      },
      "source": [
        "from datetime import datetime\n",
        "import pandas_datareader.data as web\n",
        "pandas_df = web.DataReader(\"AAPL\", \"av-daily\", start=datetime(2020, 2, 9),\n",
        "                   end=datetime(2020, 11, 14),api_key='57BHZCU2AZ7PIIKX')\n"
      ],
      "execution_count": 43,
      "outputs": []
    },
    {
      "cell_type": "code",
      "metadata": {
        "id": "txVliWhNhYdn"
      },
      "source": [
        "panda_df_msf =  web.DataReader(\"MSFT\", \"av-daily\", start=datetime(2020, 2, 9),\n",
        "                   end=datetime(2020, 11, 14),api_key='57BHZCU2AZ7PIIKX')"
      ],
      "execution_count": 45,
      "outputs": []
    },
    {
      "cell_type": "code",
      "metadata": {
        "id": "1A0AAoSEd--J"
      },
      "source": [
        "!wget -q https://mirrors.netix.net/apache/spark/spark-3.0.1/spark-3.0.1-bin-hadoop3.2.tgz\n",
        "!tar -xzf spark-3.0.1-bin-hadoop3.2.tgz\n",
        "!pip install -q findspark\n",
        "# define some evironement variable diretly with python instruction using the module os\n",
        "import os\n",
        "os.environ[\"JAVA_HOME\"] = \"/usr/lib/jvm/default-java\"\n",
        "os.environ[\"SPARK_HOME\"] = \"/content/spark-3.0.1-bin-hadoop3.2\"\n",
        "import findspark\n",
        "findspark.init()"
      ],
      "execution_count": 4,
      "outputs": []
    },
    {
      "cell_type": "code",
      "metadata": {
        "id": "oQxp7zUFXR5m"
      },
      "source": [
        "from pyspark.sql import SparkSession"
      ],
      "execution_count": 5,
      "outputs": []
    },
    {
      "cell_type": "code",
      "metadata": {
        "id": "VLriMmpIXR5r"
      },
      "source": [
        "# May take awhile locally\n",
        "spark = SparkSession.builder.appName(\"Operations\").getOrCreate()"
      ],
      "execution_count": 6,
      "outputs": []
    },
    {
      "cell_type": "code",
      "metadata": {
        "id": "nWMayQmDXR5v"
      },
      "source": [
        "# Let Spark know about the header and infer the Schema types!\n",
        "df = spark.createDataFrame(pandas_df)\n",
        "df_msf = spark.createDataFrame(panda_df_msf)"
      ],
      "execution_count": 46,
      "outputs": []
    },
    {
      "cell_type": "code",
      "metadata": {
        "id": "D-Vu1a9BXR5x",
        "outputId": "055dfbb3-1190-4d97-e4d6-8ac0efd4c6a3",
        "colab": {
          "base_uri": "https://localhost:8080/"
        }
      },
      "source": [
        "df.printSchema()"
      ],
      "execution_count": 9,
      "outputs": [
        {
          "output_type": "stream",
          "text": [
            "root\n",
            " |-- open: double (nullable = true)\n",
            " |-- high: double (nullable = true)\n",
            " |-- low: double (nullable = true)\n",
            " |-- close: double (nullable = true)\n",
            " |-- volume: long (nullable = true)\n",
            "\n"
          ],
          "name": "stdout"
        }
      ]
    },
    {
      "cell_type": "code",
      "metadata": {
        "id": "PO9g3j3chL9q",
        "outputId": "c75ca5b2-7769-42a0-aece-9e30f6ddf923",
        "colab": {
          "base_uri": "https://localhost:8080/"
        }
      },
      "source": [
        "df_msf.show()"
      ],
      "execution_count": 47,
      "outputs": [
        {
          "output_type": "stream",
          "text": [
            "+------+------+------+------+--------+\n",
            "|  open|  high|   low| close|  volume|\n",
            "+------+------+------+------+--------+\n",
            "|183.58|188.84|183.25| 188.7|35844267|\n",
            "|190.65| 190.7| 183.5|184.44|53159906|\n",
            "|185.58|185.85|181.85|184.71|47062921|\n",
            "|183.08|186.23|182.87|183.71|35295834|\n",
            "|183.25|185.41|182.65|185.35|23149516|\n",
            "|185.61| 187.7| 185.5|187.23|27853113|\n",
            "|188.06|188.18|186.47|187.28|29997471|\n",
            "|186.95|187.25| 181.1|184.42|36862376|\n",
            "|183.17| 183.5|177.25|178.59|48600385|\n",
            "|167.77|174.55|163.23|170.89|68311066|\n",
            "| 174.2|174.84|167.65|168.07|68073295|\n",
            "|169.71|173.26|168.21|170.17|56387148|\n",
            "|163.32|167.03|157.98|158.18|93174906|\n",
            "|152.41|163.71| 152.0|162.01|97073557|\n",
            "|165.31|172.92|162.31|172.79|71030810|\n",
            "| 173.8| 175.0|162.26|164.51|71677019|\n",
            "|168.49| 170.7|165.62|170.55|49814383|\n",
            "|166.05|170.87|165.69|166.27|47817251|\n",
            "|162.61|163.11| 156.0|161.57|72821057|\n",
            "| 151.0|157.75| 150.0|150.62|70419274|\n",
            "+------+------+------+------+--------+\n",
            "only showing top 20 rows\n",
            "\n"
          ],
          "name": "stdout"
        }
      ]
    },
    {
      "cell_type": "code",
      "metadata": {
        "id": "Eyt7Ag5UfHa6",
        "outputId": "4ca3e5a6-0a12-4ff0-84fc-7773e016ed29",
        "colab": {
          "base_uri": "https://localhost:8080/"
        }
      },
      "source": [
        "df.show()"
      ],
      "execution_count": 26,
      "outputs": [
        {
          "output_type": "stream",
          "text": [
            "+------+------+------+------+---------+\n",
            "|  open|  high|   low| close|   volume|\n",
            "+------+------+------+------+---------+\n",
            "|314.18|321.55|313.85|321.55| 27337215|\n",
            "| 323.6| 323.9|318.71|319.61| 23580780|\n",
            "|321.47|327.22|321.47| 327.2| 28432573|\n",
            "|324.19|326.22|323.35|324.87| 23686892|\n",
            "|324.74|325.98|322.85|324.95| 20028447|\n",
            "|315.36|319.75|314.61| 319.0| 38190545|\n",
            "| 320.0|324.57| 320.0|323.62| 23495991|\n",
            "|322.63|324.65|318.21| 320.3| 25141489|\n",
            "|318.62|320.45| 310.5|313.05| 32426415|\n",
            "|297.26|304.18|289.23|298.18| 55548828|\n",
            "|300.95|302.53|286.13|288.08| 57668364|\n",
            "|286.53|297.88| 286.5|292.65| 49678431|\n",
            "| 281.1| 286.0|272.96|273.52| 80151381|\n",
            "|257.26|278.41|256.37|273.36|106721230|\n",
            "|282.28|301.44|277.72|298.81| 85349339|\n",
            "|303.67| 304.0| 285.8|289.32| 79868852|\n",
            "|296.44| 303.4|293.13|302.74| 54794568|\n",
            "|295.52|299.55|291.41|292.92| 46893219|\n",
            "| 282.0|290.82|281.23|289.03| 56544246|\n",
            "|263.75|278.09| 263.0|266.17| 71686208|\n",
            "+------+------+------+------+---------+\n",
            "only showing top 20 rows\n",
            "\n"
          ],
          "name": "stdout"
        }
      ]
    },
    {
      "cell_type": "markdown",
      "metadata": {
        "collapsed": false,
        "id": "b15Hsx3hXR52"
      },
      "source": [
        "## Filtering Data\n",
        "\n",
        "A large part of working with DataFrames is the ability to quickly filter out data based on conditions. Spark DataFrames are built on top of the Spark SQL platform, which means that is you already know SQL, you can quickly and easily grab that data using SQL commands, or using the DataFram methods (which is what we focus on in this course)."
      ]
    },
    {
      "cell_type": "code",
      "metadata": {
        "id": "_BxMGWjQXR53",
        "outputId": "cd26cc2d-b79f-4c37-a0b6-62968016d630",
        "colab": {
          "base_uri": "https://localhost:8080/"
        }
      },
      "source": [
        "# Using SQL\n",
        "df.filter(\"Close<300\").show()"
      ],
      "execution_count": 27,
      "outputs": [
        {
          "output_type": "stream",
          "text": [
            "+------+------+------+------+---------+\n",
            "|  open|  high|   low| close|   volume|\n",
            "+------+------+------+------+---------+\n",
            "|297.26|304.18|289.23|298.18| 55548828|\n",
            "|300.95|302.53|286.13|288.08| 57668364|\n",
            "|286.53|297.88| 286.5|292.65| 49678431|\n",
            "| 281.1| 286.0|272.96|273.52| 80151381|\n",
            "|257.26|278.41|256.37|273.36|106721230|\n",
            "|282.28|301.44|277.72|298.81| 85349339|\n",
            "|303.67| 304.0| 285.8|289.32| 79868852|\n",
            "|295.52|299.55|291.41|292.92| 46893219|\n",
            "| 282.0|290.82|281.23|289.03| 56544246|\n",
            "|263.75|278.09| 263.0|266.17| 71686208|\n",
            "|277.14|286.44|269.37|285.34| 71322520|\n",
            "|277.39|281.22|271.86|275.43| 64094970|\n",
            "|255.94| 270.0| 248.0|248.23|104618517|\n",
            "|264.89|279.92|252.95|277.97| 92683032|\n",
            "|241.95|259.08| 240.0|242.21| 80605865|\n",
            "|247.51|257.61| 238.4|252.86| 81013965|\n",
            "|239.77| 250.0|237.12|246.67| 75058406|\n",
            "|247.39|252.84|242.61|244.78| 67964255|\n",
            "|247.18|251.83| 228.0|229.24|100423346|\n",
            "|228.08| 228.5|212.61|224.37| 84188208|\n",
            "+------+------+------+------+---------+\n",
            "only showing top 20 rows\n",
            "\n"
          ],
          "name": "stdout"
        }
      ]
    },
    {
      "cell_type": "code",
      "metadata": {
        "id": "Mu5rtZaLXR56",
        "outputId": "2f4de7a4-18f5-4043-b13d-42d2bfd27a87",
        "colab": {
          "base_uri": "https://localhost:8080/"
        }
      },
      "source": [
        "# Using SQL with .select()\n",
        "df.filter(\"Close<300\").select('Open').show()"
      ],
      "execution_count": 21,
      "outputs": [
        {
          "output_type": "stream",
          "text": [
            "+------+\n",
            "|  Open|\n",
            "+------+\n",
            "|171.05|\n",
            "| 170.1|\n",
            "|171.39|\n",
            "|169.71|\n",
            "|171.25|\n",
            "|169.71|\n",
            "| 171.8|\n",
            "+------+\n",
            "\n"
          ],
          "name": "stdout"
        }
      ]
    },
    {
      "cell_type": "code",
      "metadata": {
        "id": "pMyXr_jQXR5-",
        "outputId": "5cdc714f-1fd8-4b92-e9a7-58c260714f04",
        "colab": {
          "base_uri": "https://localhost:8080/"
        }
      },
      "source": [
        "# Using SQL with .select()\n",
        "df.filter(\"Close<300\").select(['Open','Close']).show()"
      ],
      "execution_count": 29,
      "outputs": [
        {
          "output_type": "stream",
          "text": [
            "+------+------+\n",
            "|  Open| Close|\n",
            "+------+------+\n",
            "|297.26|298.18|\n",
            "|300.95|288.08|\n",
            "|286.53|292.65|\n",
            "| 281.1|273.52|\n",
            "|257.26|273.36|\n",
            "|282.28|298.81|\n",
            "|303.67|289.32|\n",
            "|295.52|292.92|\n",
            "| 282.0|289.03|\n",
            "|263.75|266.17|\n",
            "|277.14|285.34|\n",
            "|277.39|275.43|\n",
            "|255.94|248.23|\n",
            "|264.89|277.97|\n",
            "|241.95|242.21|\n",
            "|247.51|252.86|\n",
            "|239.77|246.67|\n",
            "|247.39|244.78|\n",
            "|247.18|229.24|\n",
            "|228.08|224.37|\n",
            "+------+------+\n",
            "only showing top 20 rows\n",
            "\n"
          ],
          "name": "stdout"
        }
      ]
    },
    {
      "cell_type": "markdown",
      "metadata": {
        "id": "cgxz0UatXR6D"
      },
      "source": [
        "Using normal python comparison operators is another way to do this, they will look very similar to SQL operators, except you need to make sure you are calling the entire column within the dataframe, using the format: df[\"column name\"]\n",
        "\n",
        "Let's see some examples:"
      ]
    },
    {
      "cell_type": "code",
      "metadata": {
        "id": "jZiTi3rGXR6E",
        "outputId": "0ec3507a-d6ee-494d-c41e-b7719b2ba5b2",
        "colab": {
          "base_uri": "https://localhost:8080/"
        }
      },
      "source": [
        "df.filter(df[\"Close\"] < 300).show()"
      ],
      "execution_count": 28,
      "outputs": [
        {
          "output_type": "stream",
          "text": [
            "+------+------+------+------+---------+\n",
            "|  open|  high|   low| close|   volume|\n",
            "+------+------+------+------+---------+\n",
            "|297.26|304.18|289.23|298.18| 55548828|\n",
            "|300.95|302.53|286.13|288.08| 57668364|\n",
            "|286.53|297.88| 286.5|292.65| 49678431|\n",
            "| 281.1| 286.0|272.96|273.52| 80151381|\n",
            "|257.26|278.41|256.37|273.36|106721230|\n",
            "|282.28|301.44|277.72|298.81| 85349339|\n",
            "|303.67| 304.0| 285.8|289.32| 79868852|\n",
            "|295.52|299.55|291.41|292.92| 46893219|\n",
            "| 282.0|290.82|281.23|289.03| 56544246|\n",
            "|263.75|278.09| 263.0|266.17| 71686208|\n",
            "|277.14|286.44|269.37|285.34| 71322520|\n",
            "|277.39|281.22|271.86|275.43| 64094970|\n",
            "|255.94| 270.0| 248.0|248.23|104618517|\n",
            "|264.89|279.92|252.95|277.97| 92683032|\n",
            "|241.95|259.08| 240.0|242.21| 80605865|\n",
            "|247.51|257.61| 238.4|252.86| 81013965|\n",
            "|239.77| 250.0|237.12|246.67| 75058406|\n",
            "|247.39|252.84|242.61|244.78| 67964255|\n",
            "|247.18|251.83| 228.0|229.24|100423346|\n",
            "|228.08| 228.5|212.61|224.37| 84188208|\n",
            "+------+------+------+------+---------+\n",
            "only showing top 20 rows\n",
            "\n"
          ],
          "name": "stdout"
        }
      ]
    },
    {
      "cell_type": "code",
      "metadata": {
        "id": "XVf5fI1LXR6I",
        "outputId": "ef57b4ed-891e-4d43-d846-2d6076146194",
        "colab": {
          "base_uri": "https://localhost:8080/",
          "height": 335
        }
      },
      "source": [
        "# Will produce an error, make sure to read the error!\n",
        "df.filter(df[\"Close\"] < 300 and df['Open'] > 200).show()"
      ],
      "execution_count": 30,
      "outputs": [
        {
          "output_type": "error",
          "ename": "ValueError",
          "evalue": "ignored",
          "traceback": [
            "\u001b[0;31m---------------------------------------------------------------------------\u001b[0m",
            "\u001b[0;31mValueError\u001b[0m                                Traceback (most recent call last)",
            "\u001b[0;32m<ipython-input-30-fe0727a728df>\u001b[0m in \u001b[0;36m<module>\u001b[0;34m()\u001b[0m\n\u001b[1;32m      1\u001b[0m \u001b[0;31m# Will produce an error, make sure to read the error!\u001b[0m\u001b[0;34m\u001b[0m\u001b[0;34m\u001b[0m\u001b[0;34m\u001b[0m\u001b[0m\n\u001b[0;32m----> 2\u001b[0;31m \u001b[0mdf\u001b[0m\u001b[0;34m.\u001b[0m\u001b[0mfilter\u001b[0m\u001b[0;34m(\u001b[0m\u001b[0mdf\u001b[0m\u001b[0;34m[\u001b[0m\u001b[0;34m\"Close\"\u001b[0m\u001b[0;34m]\u001b[0m \u001b[0;34m<\u001b[0m \u001b[0;36m300\u001b[0m \u001b[0;32mand\u001b[0m \u001b[0mdf\u001b[0m\u001b[0;34m[\u001b[0m\u001b[0;34m'Open'\u001b[0m\u001b[0;34m]\u001b[0m \u001b[0;34m>\u001b[0m \u001b[0;36m200\u001b[0m\u001b[0;34m)\u001b[0m\u001b[0;34m.\u001b[0m\u001b[0mshow\u001b[0m\u001b[0;34m(\u001b[0m\u001b[0;34m)\u001b[0m\u001b[0;34m\u001b[0m\u001b[0;34m\u001b[0m\u001b[0m\n\u001b[0m",
            "\u001b[0;32m/content/spark-3.0.1-bin-hadoop3.2/python/pyspark/sql/column.py\u001b[0m in \u001b[0;36m__nonzero__\u001b[0;34m(self)\u001b[0m\n\u001b[1;32m    699\u001b[0m \u001b[0;34m\u001b[0m\u001b[0m\n\u001b[1;32m    700\u001b[0m     \u001b[0;32mdef\u001b[0m \u001b[0m__nonzero__\u001b[0m\u001b[0;34m(\u001b[0m\u001b[0mself\u001b[0m\u001b[0;34m)\u001b[0m\u001b[0;34m:\u001b[0m\u001b[0;34m\u001b[0m\u001b[0;34m\u001b[0m\u001b[0m\n\u001b[0;32m--> 701\u001b[0;31m         raise ValueError(\"Cannot convert column into bool: please use '&' for 'and', '|' for 'or', \"\n\u001b[0m\u001b[1;32m    702\u001b[0m                          \"'~' for 'not' when building DataFrame boolean expressions.\")\n\u001b[1;32m    703\u001b[0m     \u001b[0m__bool__\u001b[0m \u001b[0;34m=\u001b[0m \u001b[0m__nonzero__\u001b[0m\u001b[0;34m\u001b[0m\u001b[0;34m\u001b[0m\u001b[0m\n",
            "\u001b[0;31mValueError\u001b[0m: Cannot convert column into bool: please use '&' for 'and', '|' for 'or', '~' for 'not' when building DataFrame boolean expressions."
          ]
        }
      ]
    },
    {
      "cell_type": "code",
      "metadata": {
        "id": "H7KiyLrbXR6N",
        "outputId": "40172bae-fd0d-41a7-d3f7-f849a697deb8",
        "colab": {
          "base_uri": "https://localhost:8080/"
        }
      },
      "source": [
        "# Make sure to add in the parenthesis separating the statements!\n",
        "df.filter( (df[\"Close\"] < 300) & (df['Open'] > 200) ).show()"
      ],
      "execution_count": 32,
      "outputs": [
        {
          "output_type": "stream",
          "text": [
            "+------+------+------+------+---------+\n",
            "|  open|  high|   low| close|   volume|\n",
            "+------+------+------+------+---------+\n",
            "|297.26|304.18|289.23|298.18| 55548828|\n",
            "|300.95|302.53|286.13|288.08| 57668364|\n",
            "|286.53|297.88| 286.5|292.65| 49678431|\n",
            "| 281.1| 286.0|272.96|273.52| 80151381|\n",
            "|257.26|278.41|256.37|273.36|106721230|\n",
            "|282.28|301.44|277.72|298.81| 85349339|\n",
            "|303.67| 304.0| 285.8|289.32| 79868852|\n",
            "|295.52|299.55|291.41|292.92| 46893219|\n",
            "| 282.0|290.82|281.23|289.03| 56544246|\n",
            "|263.75|278.09| 263.0|266.17| 71686208|\n",
            "|277.14|286.44|269.37|285.34| 71322520|\n",
            "|277.39|281.22|271.86|275.43| 64094970|\n",
            "|255.94| 270.0| 248.0|248.23|104618517|\n",
            "|264.89|279.92|252.95|277.97| 92683032|\n",
            "|241.95|259.08| 240.0|242.21| 80605865|\n",
            "|247.51|257.61| 238.4|252.86| 81013965|\n",
            "|239.77| 250.0|237.12|246.67| 75058406|\n",
            "|247.39|252.84|242.61|244.78| 67964255|\n",
            "|247.18|251.83| 228.0|229.24|100423346|\n",
            "|228.08| 228.5|212.61|224.37| 84188208|\n",
            "+------+------+------+------+---------+\n",
            "only showing top 20 rows\n",
            "\n"
          ],
          "name": "stdout"
        }
      ]
    },
    {
      "cell_type": "code",
      "metadata": {
        "id": "lOhbfSErXR6R",
        "outputId": "ac1c28aa-4624-430f-c965-af2febfa74e3",
        "colab": {
          "base_uri": "https://localhost:8080/"
        }
      },
      "source": [
        "# Make sure to add in the parenthesis separating the statements!\n",
        "df.filter( (df[\"Close\"] < 200) | (df['Open'] > 200) ).show()"
      ],
      "execution_count": 33,
      "outputs": [
        {
          "output_type": "stream",
          "text": [
            "+------+------+------+------+---------+\n",
            "|  open|  high|   low| close|   volume|\n",
            "+------+------+------+------+---------+\n",
            "|314.18|321.55|313.85|321.55| 27337215|\n",
            "| 323.6| 323.9|318.71|319.61| 23580780|\n",
            "|321.47|327.22|321.47| 327.2| 28432573|\n",
            "|324.19|326.22|323.35|324.87| 23686892|\n",
            "|324.74|325.98|322.85|324.95| 20028447|\n",
            "|315.36|319.75|314.61| 319.0| 38190545|\n",
            "| 320.0|324.57| 320.0|323.62| 23495991|\n",
            "|322.63|324.65|318.21| 320.3| 25141489|\n",
            "|318.62|320.45| 310.5|313.05| 32426415|\n",
            "|297.26|304.18|289.23|298.18| 55548828|\n",
            "|300.95|302.53|286.13|288.08| 57668364|\n",
            "|286.53|297.88| 286.5|292.65| 49678431|\n",
            "| 281.1| 286.0|272.96|273.52| 80151381|\n",
            "|257.26|278.41|256.37|273.36|106721230|\n",
            "|282.28|301.44|277.72|298.81| 85349339|\n",
            "|303.67| 304.0| 285.8|289.32| 79868852|\n",
            "|296.44| 303.4|293.13|302.74| 54794568|\n",
            "|295.52|299.55|291.41|292.92| 46893219|\n",
            "| 282.0|290.82|281.23|289.03| 56544246|\n",
            "|263.75|278.09| 263.0|266.17| 71686208|\n",
            "+------+------+------+------+---------+\n",
            "only showing top 20 rows\n",
            "\n"
          ],
          "name": "stdout"
        }
      ]
    },
    {
      "cell_type": "code",
      "metadata": {
        "id": "W6ouL3QxXR6X",
        "outputId": "42f90013-f0aa-4cde-b35a-8612117bdb0a"
      },
      "source": [
        "# Make sure to add in the parenthesis separating the statements!\n",
        "df.filter( (df[\"Close\"] < 200) & ~(df['Open'] < 200) ).show()"
      ],
      "execution_count": null,
      "outputs": [
        {
          "output_type": "stream",
          "text": [
            "+--------------------+------------------+----------+----------+----------+---------+------------------+\n",
            "|                Date|              Open|      High|       Low|     Close|   Volume|         Adj Close|\n",
            "+--------------------+------------------+----------+----------+----------+---------+------------------+\n",
            "|2010-01-22 00:00:...|206.78000600000001|207.499996|    197.16|    197.75|220441900|         25.620401|\n",
            "|2010-01-28 00:00:...|        204.930004|205.500004|198.699995|199.289995|293375600|25.819922000000002|\n",
            "|2010-01-29 00:00:...|        201.079996|202.199995|190.250002|192.060003|311488100|         24.883208|\n",
            "+--------------------+------------------+----------+----------+----------+---------+------------------+\n",
            "\n"
          ],
          "name": "stdout"
        }
      ]
    },
    {
      "cell_type": "code",
      "metadata": {
        "id": "ezOgnNKFXR6a",
        "outputId": "334d5b60-9b21-4a4a-f089-d7d09e9f2058",
        "colab": {
          "base_uri": "https://localhost:8080/"
        }
      },
      "source": [
        "df.filter(df[\"Low\"] == 318.21).show()"
      ],
      "execution_count": 35,
      "outputs": [
        {
          "output_type": "stream",
          "text": [
            "+------+------+------+-----+--------+\n",
            "|  open|  high|   low|close|  volume|\n",
            "+------+------+------+-----+--------+\n",
            "|322.63|324.65|318.21|320.3|25141489|\n",
            "+------+------+------+-----+--------+\n",
            "\n"
          ],
          "name": "stdout"
        }
      ]
    },
    {
      "cell_type": "code",
      "metadata": {
        "id": "4i1s3OFgXR6d",
        "outputId": "608aba0f-ba0a-4591-8fc3-f518327d4cc9",
        "colab": {
          "base_uri": "https://localhost:8080/"
        }
      },
      "source": [
        "# Collecting results as Python objects\n",
        "df.filter(df[\"Low\"] == 318.21).collect()"
      ],
      "execution_count": 36,
      "outputs": [
        {
          "output_type": "execute_result",
          "data": {
            "text/plain": [
              "[Row(open=322.63, high=324.65, low=318.21, close=320.3, volume=25141489)]"
            ]
          },
          "metadata": {
            "tags": []
          },
          "execution_count": 36
        }
      ]
    },
    {
      "cell_type": "code",
      "metadata": {
        "id": "1KvW9KETXR6i"
      },
      "source": [
        "result = df.filter(df[\"Low\"] == 318.21).collect()"
      ],
      "execution_count": 37,
      "outputs": []
    },
    {
      "cell_type": "code",
      "metadata": {
        "id": "fiTlRJNJXR6k",
        "outputId": "35954c89-a643-4b9c-a72e-521785a33759",
        "colab": {
          "base_uri": "https://localhost:8080/"
        }
      },
      "source": [
        "# Note the nested structure returns a nested row object\n",
        "type(result[0])"
      ],
      "execution_count": 38,
      "outputs": [
        {
          "output_type": "execute_result",
          "data": {
            "text/plain": [
              "pyspark.sql.types.Row"
            ]
          },
          "metadata": {
            "tags": []
          },
          "execution_count": 38
        }
      ]
    },
    {
      "cell_type": "code",
      "metadata": {
        "id": "pNojEfrQXR6n"
      },
      "source": [
        "row = result[0]"
      ],
      "execution_count": 39,
      "outputs": []
    },
    {
      "cell_type": "markdown",
      "metadata": {
        "id": "V77Iia6jXR6r"
      },
      "source": [
        "Rows can be called to turn into dictionaries"
      ]
    },
    {
      "cell_type": "code",
      "metadata": {
        "id": "dG5UDP44XR6r",
        "outputId": "7c92d89f-9251-4896-b671-c306262ddc42",
        "colab": {
          "base_uri": "https://localhost:8080/"
        }
      },
      "source": [
        "row.asDict()"
      ],
      "execution_count": 40,
      "outputs": [
        {
          "output_type": "execute_result",
          "data": {
            "text/plain": [
              "{'close': 320.3,\n",
              " 'high': 324.65,\n",
              " 'low': 318.21,\n",
              " 'open': 322.63,\n",
              " 'volume': 25141489}"
            ]
          },
          "metadata": {
            "tags": []
          },
          "execution_count": 40
        }
      ]
    },
    {
      "cell_type": "code",
      "metadata": {
        "id": "Rjqo_h_qXR6u",
        "outputId": "329845a0-a0aa-4989-b982-a45123c5bc64",
        "colab": {
          "base_uri": "https://localhost:8080/"
        }
      },
      "source": [
        "for item in result[0]:\n",
        "    print(item)"
      ],
      "execution_count": 41,
      "outputs": [
        {
          "output_type": "stream",
          "text": [
            "322.63\n",
            "324.65\n",
            "318.21\n",
            "320.3\n",
            "25141489\n"
          ],
          "name": "stdout"
        }
      ]
    },
    {
      "cell_type": "markdown",
      "metadata": {
        "id": "890VHPkQXR6w"
      },
      "source": [
        "That is all for now Great Job!"
      ]
    }
  ]
}